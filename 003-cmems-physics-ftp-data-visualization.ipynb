{
 "cells": [
  {
   "cell_type": "markdown",
   "metadata": {},
   "source": [
    "## Get data"
   ]
  },
  {
   "cell_type": "code",
   "execution_count": 1,
   "metadata": {},
   "outputs": [],
   "source": [
    "import ftplib # https://docs.python.org/3/library/ftplib.html\n",
    "import os\n",
    "import credentials"
   ]
  },
  {
   "cell_type": "code",
   "execution_count": 2,
   "metadata": {},
   "outputs": [],
   "source": [
    "def download(url, user, passwd, ftp_path, filename):\n",
    "    \n",
    "    with ftplib.FTP(url) as ftp:\n",
    "        \n",
    "        try:\n",
    "            ftp.login(user, passwd)\n",
    "            \n",
    "            # Change directory\n",
    "            ftp.cwd(ftp_path)\n",
    "            \n",
    "            # Download file (if there is not yet a local copy)\n",
    "            if os.path.isfile(filename):\n",
    "                print(\"There is already a local copy of {}\".format(filename))\n",
    "            else:\n",
    "                with open(filename, 'wb') as fp:\n",
    "                    ftp.retrbinary('RETR {}'.format(filename), fp.write)\n",
    "        \n",
    "        except ftplib.all_errors as e:\n",
    "            print('FTP error:', e)\n",
    "    "
   ]
  },
  {
   "cell_type": "code",
   "execution_count": 3,
   "metadata": {},
   "outputs": [],
   "source": [
    "# Set credentials from environment variables\n",
    "UN_CMEMS = credentials.USERNAME\n",
    "PW_CMEMS = credentials.PASSWORD"
   ]
  },
  {
   "cell_type": "code",
   "execution_count": 4,
   "metadata": {},
   "outputs": [
    {
     "name": "stdout",
     "output_type": "stream",
     "text": [
      "220 Welcome to CMEMS FTP service\n"
     ]
    }
   ],
   "source": [
    "# Check if service is reachable\n",
    "\n",
    "with ftplib.FTP('nrt.cmems-du.eu') as ftp:\n",
    "    print(ftp.getwelcome())"
   ]
  },
  {
   "cell_type": "code",
   "execution_count": 5,
   "metadata": {},
   "outputs": [
    {
     "name": "stdout",
     "output_type": "stream",
     "text": [
      "-rw-rw-r--    1 ftp      ftp      3650320032 May 05 08:07 mercatorpsy4v3r1_gl12_mean_20210501_R20210505.nc\n",
      "-rw-rw-r--    1 ftp      ftp      3650320032 May 05 08:07 mercatorpsy4v3r1_gl12_mean_20210502_R20210505.nc\n",
      "-rw-rw-r--    1 ftp      ftp      3650320032 May 05 08:07 mercatorpsy4v3r1_gl12_mean_20210503_R20210505.nc\n",
      "-rw-rw-r--    1 ftp      ftp      3650320032 May 05 08:07 mercatorpsy4v3r1_gl12_mean_20210504_R20210505.nc\n",
      "-rw-rw-r--    1 ftp      ftp      3650320032 May 06 00:15 mercatorpsy4v3r1_gl12_mean_20210505_R20210506.nc\n",
      "-rw-rw-r--    1 ftp      ftp      3650320032 May 07 01:47 mercatorpsy4v3r1_gl12_mean_20210506_R20210507.nc\n",
      "-rw-rw-r--    1 ftp      ftp      3650320032 May 08 00:20 mercatorpsy4v3r1_gl12_mean_20210507_R20210508.nc\n",
      "-rw-rw-r--    1 ftp      ftp      3650320032 May 09 00:25 mercatorpsy4v3r1_gl12_mean_20210508_R20210509.nc\n",
      "-rw-rw-r--    1 ftp      ftp      3650320032 May 10 00:22 mercatorpsy4v3r1_gl12_mean_20210509_R20210510.nc\n",
      "-rw-rw-r--    1 ftp      ftp      3650320032 May 11 07:12 mercatorpsy4v3r1_gl12_mean_20210510_R20210511.nc\n",
      "-rw-rw-r--    1 ftp      ftp      3650320032 May 11 07:12 mercatorpsy4v3r1_gl12_mean_20210511_R20210511.nc\n",
      "-rw-rw-r--    1 ftp      ftp      3650320032 May 11 07:12 mercatorpsy4v3r1_gl12_mean_20210512_R20210511.nc\n",
      "-rw-rw-r--    1 ftp      ftp      3650320032 May 11 07:12 mercatorpsy4v3r1_gl12_mean_20210513_R20210511.nc\n",
      "-rw-rw-r--    1 ftp      ftp      3650320032 May 11 07:12 mercatorpsy4v3r1_gl12_mean_20210514_R20210511.nc\n",
      "-rw-rw-r--    1 ftp      ftp      3650320032 May 11 07:12 mercatorpsy4v3r1_gl12_mean_20210515_R20210511.nc\n",
      "-rw-rw-r--    1 ftp      ftp      3650320032 May 11 07:12 mercatorpsy4v3r1_gl12_mean_20210516_R20210511.nc\n",
      "-rw-rw-r--    1 ftp      ftp      3650320032 May 11 07:12 mercatorpsy4v3r1_gl12_mean_20210517_R20210511.nc\n",
      "-rw-rw-r--    1 ftp      ftp      3650320032 May 11 07:13 mercatorpsy4v3r1_gl12_mean_20210518_R20210511.nc\n",
      "-rw-rw-r--    1 ftp      ftp      3650320032 May 11 07:13 mercatorpsy4v3r1_gl12_mean_20210519_R20210511.nc\n",
      "-rw-rw-r--    1 ftp      ftp      3650320032 May 11 07:13 mercatorpsy4v3r1_gl12_mean_20210520_R20210511.nc\n",
      "['mercatorpsy4v3r1_gl12_mean_20210501_R20210505.nc', 'mercatorpsy4v3r1_gl12_mean_20210502_R20210505.nc', 'mercatorpsy4v3r1_gl12_mean_20210503_R20210505.nc', 'mercatorpsy4v3r1_gl12_mean_20210504_R20210505.nc', 'mercatorpsy4v3r1_gl12_mean_20210505_R20210506.nc', 'mercatorpsy4v3r1_gl12_mean_20210506_R20210507.nc', 'mercatorpsy4v3r1_gl12_mean_20210507_R20210508.nc', 'mercatorpsy4v3r1_gl12_mean_20210508_R20210509.nc', 'mercatorpsy4v3r1_gl12_mean_20210509_R20210510.nc', 'mercatorpsy4v3r1_gl12_mean_20210510_R20210511.nc', 'mercatorpsy4v3r1_gl12_mean_20210511_R20210511.nc', 'mercatorpsy4v3r1_gl12_mean_20210512_R20210511.nc', 'mercatorpsy4v3r1_gl12_mean_20210513_R20210511.nc', 'mercatorpsy4v3r1_gl12_mean_20210514_R20210511.nc', 'mercatorpsy4v3r1_gl12_mean_20210515_R20210511.nc', 'mercatorpsy4v3r1_gl12_mean_20210516_R20210511.nc', 'mercatorpsy4v3r1_gl12_mean_20210517_R20210511.nc', 'mercatorpsy4v3r1_gl12_mean_20210518_R20210511.nc', 'mercatorpsy4v3r1_gl12_mean_20210519_R20210511.nc', 'mercatorpsy4v3r1_gl12_mean_20210520_R20210511.nc']\n",
      "FTP error: 550 Could not get file size.\n"
     ]
    }
   ],
   "source": [
    "# Check contents\n",
    "\n",
    "with ftplib.FTP('nrt.cmems-du.eu') as ftp:\n",
    "    \n",
    "    try:\n",
    "        ftp.login(UN_CMEMS, PW_CMEMS)\n",
    "        \n",
    "        # Change directory\n",
    "        ftp.cwd('Core/GLOBAL_ANALYSIS_FORECAST_PHY_001_024/global-analysis-forecast-phy-001-024/2021/05')\n",
    "        \n",
    "        # List directory contents with additional information\n",
    "        ftp.retrlines('LIST') \n",
    "           \n",
    "        # Get list of directory contents without additional information\n",
    "        files = []\n",
    "        ftp.retrlines('NLST', files.append) \n",
    "        print(files) \n",
    "        \n",
    "        # Check file size\n",
    "        print(\"{} MB\".format(ftp.size('')/1000000))\n",
    "            \n",
    "    except ftplib.all_errors as e:\n",
    "        print('FTP error:', e)"
   ]
  },
  {
   "cell_type": "code",
   "execution_count": 6,
   "metadata": {},
   "outputs": [],
   "source": [
    "# Download file\n",
    "\n",
    "url = 'nrt.cmems-du.eu'\n",
    "path = 'Core/GLOBAL_ANALYSIS_FORECAST_PHY_001_024/global-analysis-forecast-phy-001-024/2021/05'\n",
    "filename = 'mercatorpsy4v3r1_gl12_mean_20210509_R20210510.nc'\n",
    "\n",
    "download(url, UN_CMEMS, PW_CMEMS, path, filename)"
   ]
  }
 ],
 "metadata": {
  "kernelspec": {
   "display_name": "Python 3",
   "language": "python",
   "name": "python3"
  },
  "language_info": {
   "codemirror_mode": {
    "name": "ipython",
    "version": 3
   },
   "file_extension": ".py",
   "mimetype": "text/x-python",
   "name": "python",
   "nbconvert_exporter": "python",
   "pygments_lexer": "ipython3",
   "version": "3.8.5"
  }
 },
 "nbformat": 4,
 "nbformat_minor": 4
}
