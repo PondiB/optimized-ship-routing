{
 "cells": [
  {
   "cell_type": "code",
   "execution_count": 1,
   "metadata": {},
   "outputs": [],
   "source": [
    "'''\n",
    "Author: Brian Pondi\n",
    "Date: 09-05-2021\n",
    "Topic: CMEMS Data Download for Optimized Ship Routing.\n",
    "'''\n",
    "import ftplib # https://docs.python.org/3/library/ftplib.html\n",
    "import os\n",
    "import credentials"
   ]
  },
  {
   "cell_type": "code",
   "execution_count": 2,
   "metadata": {},
   "outputs": [],
   "source": [
    "def download(url, user, passwd, ftp_path, filename):\n",
    "    \n",
    "    with ftplib.FTP(url) as ftp:\n",
    "        \n",
    "        try:\n",
    "            ftp.login(user, passwd)\n",
    "            \n",
    "            # Change directory\n",
    "            ftp.cwd(ftp_path)\n",
    "            \n",
    "            # Download file (if there is not yet a local copy)\n",
    "            if os.path.isfile(filename):\n",
    "                print(\"There is already a local copy of {}\".format(filename))\n",
    "            else:\n",
    "                with open(filename, 'wb') as fp:\n",
    "                    ftp.retrbinary('RETR {}'.format(filename), fp.write)\n",
    "        \n",
    "        except ftplib.all_errors as e:\n",
    "            print('FTP error:', e)"
   ]
  },
  {
   "cell_type": "code",
   "execution_count": 3,
   "metadata": {},
   "outputs": [],
   "source": [
    "# Set credentials from environment variables\n",
    "UN_CMEMS = credentials.USERNAME\n",
    "PW_CMEMS = credentials.PASSWORD"
   ]
  },
  {
   "cell_type": "code",
   "execution_count": 4,
   "metadata": {},
   "outputs": [
    {
     "name": "stdout",
     "output_type": "stream",
     "text": [
      "220 Welcome to CMEMS NRT FTP service\n"
     ]
    }
   ],
   "source": [
    "# Check if service is reachable\n",
    "\n",
    "with ftplib.FTP('nrt.cmems-du.eu') as ftp:\n",
    "    print(ftp.getwelcome())"
   ]
  },
  {
   "cell_type": "code",
   "execution_count": 7,
   "metadata": {},
   "outputs": [
    {
     "name": "stdout",
     "output_type": "stream",
     "text": [
      "-rw-rw-r--    1 ftp      ftp      634563137 May 02 06:43 mfwamglocep_2021050100_R20210502.nc\n",
      "-rw-rw-r--    1 ftp      ftp      634336577 May 03 06:43 mfwamglocep_2021050200_R20210503.nc\n",
      "-rw-rw-r--    1 ftp      ftp      632276038 May 04 06:43 mfwamglocep_2021050300_R20210504.nc\n",
      "-rw-rw-r--    1 ftp      ftp      628177665 May 05 06:42 mfwamglocep_2021050400_R20210505.nc\n",
      "-rw-rw-r--    1 ftp      ftp      629027311 May 06 06:43 mfwamglocep_2021050500_R20210506.nc\n",
      "-rw-rw-r--    1 ftp      ftp      628049489 May 07 06:44 mfwamglocep_2021050600_R20210507.nc\n",
      "-rw-rw-r--    1 ftp      ftp      628640425 May 08 06:44 mfwamglocep_2021050700_R20210508.nc\n",
      "-rw-rw-r--    1 ftp      ftp      631614075 May 09 06:43 mfwamglocep_2021050800_R20210509.nc\n",
      "-rw-rw-r--    1 ftp      ftp      634159856 May 10 06:43 mfwamglocep_2021050900_R20210510.nc\n",
      "-rw-rw-r--    1 ftp      ftp      641810618 May 10 06:47 mfwamglocep_2021051000_R20210510.nc\n",
      "-rw-rw-r--    1 ftp      ftp      633801684 May 10 06:52 mfwamglocep_2021051100_R20210510.nc\n",
      "-rw-rw-r--    1 ftp      ftp      628555605 May 10 06:57 mfwamglocep_2021051200_R20210510.nc\n",
      "-rw-rw-r--    1 ftp      ftp      624116899 May 10 07:02 mfwamglocep_2021051300_R20210510.nc\n",
      "-rw-rw-r--    1 ftp      ftp      619235239 May 10 07:07 mfwamglocep_2021051400_R20210510.nc\n",
      "-rw-rw-r--    1 ftp      ftp      580042016 May 10 07:23 mfwamglocep_2021051500_R20210510.nc\n",
      "-rw-rw-r--    1 ftp      ftp      570210954 May 10 07:28 mfwamglocep_2021051600_R20210510.nc\n",
      "-rw-rw-r--    1 ftp      ftp      570969862 May 10 07:33 mfwamglocep_2021051700_R20210510.nc\n",
      "-rw-rw-r--    1 ftp      ftp      573463633 May 10 07:37 mfwamglocep_2021051800_R20210510.nc\n",
      "-rw-rw-r--    1 ftp      ftp      572913732 May 10 07:43 mfwamglocep_2021051900_R20210510.nc\n",
      "['mfwamglocep_2021050100_R20210502.nc', 'mfwamglocep_2021050200_R20210503.nc', 'mfwamglocep_2021050300_R20210504.nc', 'mfwamglocep_2021050400_R20210505.nc', 'mfwamglocep_2021050500_R20210506.nc', 'mfwamglocep_2021050600_R20210507.nc', 'mfwamglocep_2021050700_R20210508.nc', 'mfwamglocep_2021050800_R20210509.nc', 'mfwamglocep_2021050900_R20210510.nc', 'mfwamglocep_2021051000_R20210510.nc', 'mfwamglocep_2021051100_R20210510.nc', 'mfwamglocep_2021051200_R20210510.nc', 'mfwamglocep_2021051300_R20210510.nc', 'mfwamglocep_2021051400_R20210510.nc', 'mfwamglocep_2021051500_R20210510.nc', 'mfwamglocep_2021051600_R20210510.nc', 'mfwamglocep_2021051700_R20210510.nc', 'mfwamglocep_2021051800_R20210510.nc', 'mfwamglocep_2021051900_R20210510.nc']\n",
      "FTP error: 550 Could not get file size.\n"
     ]
    }
   ],
   "source": [
    "# Check contents\n",
    "\n",
    "with ftplib.FTP('nrt.cmems-du.eu') as ftp:\n",
    "    \n",
    "    try:\n",
    "        ftp.login(UN_CMEMS, PW_CMEMS)\n",
    "        \n",
    "        # Change directory\n",
    "        ftp.cwd('Core/GLOBAL_ANALYSIS_FORECAST_WAV_001_027/global-analysis-forecast-wav-001-027/2021/05')\n",
    "        \n",
    "        # List directory contents with additional information\n",
    "        ftp.retrlines('LIST') \n",
    "           \n",
    "        # Get list of directory contents without additional information\n",
    "        files = []\n",
    "        ftp.retrlines('NLST', files.append) \n",
    "        print(files) \n",
    "        \n",
    "        # Check file size\n",
    "        print(\"{} MB\".format(ftp.size('mfwamglocep_2020120100_R20201202.nc')/1000000))\n",
    "            \n",
    "    except ftplib.all_errors as e:\n",
    "        print('FTP error:', e)"
   ]
  },
  {
   "cell_type": "code",
   "execution_count": 36,
   "metadata": {},
   "outputs": [
    {
     "name": "stdout",
     "output_type": "stream",
     "text": [
      "There is already a local copy of mfwamglocep_2020120200_R20201203.nc\n"
     ]
    }
   ],
   "source": [
    "# Download file\n",
    "\n",
    "url = 'nrt.cmems-du.eu'\n",
    "path = 'Core/GLOBAL_ANALYSIS_FORECAST_WAV_001_027/global-analysis-forecast-wav-001-027/2020/12'\n",
    "filename = 'mfwamglocep_2020120200_R20201203.nc'\n",
    "\n",
    "download(url, UN_CMEMS, PW_CMEMS, path, filename)"
   ]
  },
  {
   "cell_type": "code",
   "execution_count": 37,
   "metadata": {},
   "outputs": [
    {
     "name": "stdout",
     "output_type": "stream",
     "text": [
      "Done\n"
     ]
    }
   ],
   "source": [
    "print(\"Done\")"
   ]
  }
 ],
 "metadata": {
  "kernelspec": {
   "display_name": "Python 3",
   "language": "python",
   "name": "python3"
  },
  "language_info": {
   "codemirror_mode": {
    "name": "ipython",
    "version": 3
   },
   "file_extension": ".py",
   "mimetype": "text/x-python",
   "name": "python",
   "nbconvert_exporter": "python",
   "pygments_lexer": "ipython3",
   "version": "3.8.5"
  }
 },
 "nbformat": 4,
 "nbformat_minor": 4
}
